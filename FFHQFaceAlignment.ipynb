{
  "nbformat": 4,
  "nbformat_minor": 0,
  "metadata": {
    "colab": {
      "provenance": [],
      "toc_visible": true,
      "authorship_tag": "ABX9TyP3Sw5ACrw5jz3NpzyOzu57",
      "include_colab_link": true
    },
    "kernelspec": {
      "name": "python3",
      "display_name": "Python 3"
    },
    "language_info": {
      "name": "python"
    }
  },
  "cells": [
    {
      "cell_type": "markdown",
      "metadata": {
        "id": "view-in-github",
        "colab_type": "text"
      },
      "source": [
        "<a href=\"https://colab.research.google.com/github/strongishdeveloper/FFHQFaceAlignment/blob/main/FFHQFaceAlignment.ipynb\" target=\"_parent\"><img src=\"https://colab.research.google.com/assets/colab-badge.svg\" alt=\"Open In Colab\"/></a>"
      ]
    },
    {
      "cell_type": "markdown",
      "source": [
        "**Installation**"
      ],
      "metadata": {
        "id": "vaXwSOqX-ZXN"
      }
    },
    {
      "cell_type": "code",
      "execution_count": null,
      "metadata": {
        "id": "b62_krr09x0B"
      },
      "outputs": [],
      "source": [
        "import os\n",
        "from google.colab import drive\n",
        "from subprocess import getoutput\n",
        "from IPython.utils import capture\n",
        "import shutil\n",
        "import time\n",
        "\n",
        "%store -r\n",
        "\n",
        "# root\n",
        "root_dir = \"/content\"\n",
        "deps_dir = os.path.join(root_dir, \"deps\")\n",
        "repo_dir = os.path.join(root_dir, \"FFHQFaceAlignment\")\n",
        "\n",
        "for store in [\n",
        "    \"root_dir\",\n",
        "    \"deps_dir\",\n",
        "    \"repo_dir\",\n",
        "]:\n",
        "    with capture.capture_output() as cap:\n",
        "        %store {store}\n",
        "        del cap\n",
        "\n",
        "repo_url = \"https://github.com/strongishdeveloper/FFHQFaceAlignment\"\n",
        "\n",
        "def clone_repo(url):\n",
        "  if not os.path.exists(repo_dir):\n",
        "    os.chdir(root_dir)\n",
        "    !git clone {url} {repo_dir}\n",
        "  else:\n",
        "    os.chdir(repo_dir)\n",
        "    !git pull origin {branch} if branch else !git pull\n",
        "\n",
        "def install_deps():\n",
        "  !pip install {'-q' if not verbose else ''} --upgrade -r requirements.txt\n",
        "\n",
        "def main():\n",
        "  os.chdir(root_dir)\n",
        "\n",
        "  if not os.pth.exists(\"/content/drive\"):\n",
        "    drive.mount(\"/content/drive\")\n",
        "\n",
        "  for dir in [\n",
        "      deps_dir,\n",
        "  ]:\n",
        "    os.makedirs(dir, exists_ok=True)\n",
        "\n",
        "  clone_repo(repo_url)\n",
        "\n",
        "  os.chdir(repo_dir)\n",
        "  install_deps()\n",
        "  time.sleep(3)\n",
        "\n",
        "main()"
      ]
    }
  ]
}